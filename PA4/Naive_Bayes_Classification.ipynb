{
 "cells": [
  {
   "cell_type": "code",
   "execution_count": 1,
   "metadata": {},
   "outputs": [],
   "source": [
    "import re\n",
    "import pandas as pd\n",
    "import tensorflow as tf\n",
    "from sklearn.metrics import *\n",
    "import matplotlib.pyplot as plt\n",
    "from nltk.corpus import stopwords\n",
    "import matplotlib.patches as mpatches\n",
    "from nltk.tokenize import RegexpTokenizer\n",
    "from sklearn.naive_bayes import ComplementNB\n",
    "from sklearn.feature_extraction.text import CountVectorizer"
   ]
  },
  {
   "cell_type": "markdown",
   "metadata": {},
   "source": [
    "# Naive Bayes"
   ]
  },
  {
   "cell_type": "markdown",
   "metadata": {},
   "source": [
    "## Import Data"
   ]
  },
  {
   "cell_type": "code",
   "execution_count": 2,
   "metadata": {},
   "outputs": [],
   "source": [
    "df = pd.read_csv(\"data/training.1600000.processed.noemoticon.csv\",\n",
    "                names=['polarity', 'id', 'date', 'query', 'user', 'text'],\n",
    "                encoding='latin-1',\n",
    "                usecols=['polarity', 'text'])\n",
    "\n",
    "test_df = pd.read_csv(\"data/testdata.manual.2009.06.14.csv\",\n",
    "                names=['polarity', 'id', 'date', 'query', 'user', 'text'],\n",
    "                encoding='latin-1',\n",
    "                usecols=['polarity', 'text'])\n",
    "\n",
    "test_df = test_df[test_df['polarity'] != 2]"
   ]
  },
  {
   "cell_type": "markdown",
   "metadata": {},
   "source": [
    "## Preprocess Data"
   ]
  },
  {
   "cell_type": "code",
   "execution_count": 3,
   "metadata": {},
   "outputs": [],
   "source": [
    "# Remove tweets longer than 280 characters\n",
    "df = df.drop(df[df.text.str.len() > 280].index).reset_index(drop=True)\n",
    "test_df = test_df.drop(test_df[test_df.text.str.len() > 280].index).reset_index(drop=True)\n",
    "\n",
    "# Convert to lowercase\n",
    "df['text'] = df['text'].str.lower()\n",
    "test_df['text'] = test_df['text'].str.lower()\n",
    "\n",
    "# Remove URLs and @mentions\n",
    "df['text'] = df['text'].apply(lambda t: re.sub('@[^ ]+|http[^ ]+', '', t).strip())\n",
    "test_df['text'] = test_df['text'].apply(lambda t: re.sub('@[^ ]+|http[^ ]+', '', t).strip())\n",
    "\n",
    "# Remove stopwords\n",
    "stop = stopwords.words('english')\n",
    "df['text'] = df['text'].apply(lambda t: ' '.join([w for w in t.split() if w not in stop]))\n",
    "test_df['text'] = test_df['text'].apply(lambda t: ' '.join([w for w in t.split() if w not in stop]))\n",
    "\n",
    "# Remove punctuation\n",
    "df['text'] = df['text'].apply(lambda t: re.sub('[^a-zA-Z0-9\\s]', '', t).strip())\n",
    "test_df['text'] = test_df['text'].apply(lambda t: re.sub('[^a-zA-Z0-9\\s]', '', t).strip())\n",
    "\n",
    "# Replace label 4 with 1\n",
    "df['polarity'] = df.polarity.replace(4,1)\n",
    "test_df['polarity'] = test_df.polarity.replace(4,1)"
   ]
  },
  {
   "cell_type": "markdown",
   "metadata": {},
   "source": [
    "## Tokenize and Create Train/Test Sets"
   ]
  },
  {
   "cell_type": "code",
   "execution_count": 4,
   "metadata": {},
   "outputs": [],
   "source": [
    "token = RegexpTokenizer(r'[a-zA-Z0-9]+')\n",
    "cv = CountVectorizer(stop_words='english',ngram_range = (1,2),tokenizer = token.tokenize)"
   ]
  },
  {
   "cell_type": "code",
   "execution_count": 5,
   "metadata": {},
   "outputs": [],
   "source": [
    "X_train=cv.fit_transform(df['text'].values.astype('U'))\n",
    "y_train=df['polarity']\n",
    "X_test=cv.transform(test_df['text'].values.astype('U'))\n",
    "y_test=test_df['polarity']"
   ]
  },
  {
   "cell_type": "markdown",
   "metadata": {},
   "source": [
    "## Training and Results"
   ]
  },
  {
   "cell_type": "code",
   "execution_count": 6,
   "metadata": {},
   "outputs": [
    {
     "name": "stdout",
     "output_type": "stream",
     "text": [
      "Train accuracy =91.09%\n",
      "Test accuracy =82.17%\n"
     ]
    }
   ],
   "source": [
    "cnb = ComplementNB()\n",
    "cnb.fit(X_train, y_train)             \n",
    "print (\"Train accuracy ={:.2f}%\".format(cnb.score(X_train,y_train)*100))\n",
    "print (\"Test accuracy ={:.2f}%\".format(cnb.score(X_test,y_test)*100))\n",
    "train_acc_cnb=cnb.score(X_train,y_train)\n",
    "test_acc_cnb=cnb.score(X_test,y_test)"
   ]
  },
  {
   "cell_type": "code",
   "execution_count": 7,
   "metadata": {},
   "outputs": [
    {
     "name": "stdout",
     "output_type": "stream",
     "text": [
      "              precision    recall  f1-score   support\n",
      "\n",
      "           0       0.82      0.82      0.82       177\n",
      "           1       0.83      0.82      0.82       182\n",
      "\n",
      "    accuracy                           0.82       359\n",
      "   macro avg       0.82      0.82      0.82       359\n",
      "weighted avg       0.82      0.82      0.82       359\n",
      "\n"
     ]
    }
   ],
   "source": [
    "y_pred_cnb =cnb.predict(X_test)\n",
    "print(classification_report(y_test, y_pred_cnb))"
   ]
  },
  {
   "cell_type": "code",
   "execution_count": null,
   "metadata": {},
   "outputs": [],
   "source": []
  }
 ],
 "metadata": {
  "interpreter": {
   "hash": "31f2aee4e71d21fbe5cf8b01ff0e069b9275f58929596ceb00d14d90e3e16cd6"
  },
  "kernelspec": {
   "display_name": "Python 3.9.7 64-bit",
   "language": "python",
   "name": "python3"
  },
  "language_info": {
   "codemirror_mode": {
    "name": "ipython",
    "version": 3
   },
   "file_extension": ".py",
   "mimetype": "text/x-python",
   "name": "python",
   "nbconvert_exporter": "python",
   "pygments_lexer": "ipython3",
   "version": "3.9.7"
  },
  "orig_nbformat": 4
 },
 "nbformat": 4,
 "nbformat_minor": 2
}
